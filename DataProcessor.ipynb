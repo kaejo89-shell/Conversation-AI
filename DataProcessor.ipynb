{
 "cells": [
  {
   "cell_type": "code",
   "execution_count": 1,
   "id": "38a32395",
   "metadata": {},
   "outputs": [],
   "source": [
    "import os\n",
    "#os.environ[\"CUDA_LAUNCH_BLOCKING\"]=\"1\"\n",
    "os.environ[\"TOKENIZERS_PARALLELISM\"]=\"true\"\n",
    "from transformers import BartForConditionalGeneration,BartTokenizer\n",
    "import torch\n",
    "\n",
    "from transformers import pipeline\n",
    "\n",
    "summarizer = pipeline(\"summarization\", \n",
    "                      model=\"facebook/bart-large-cnn\",\n",
    "                      device=0)"
   ]
  },
  {
   "cell_type": "code",
   "execution_count": null,
   "id": "15df0aee",
   "metadata": {},
   "outputs": [],
   "source": []
  },
  {
   "cell_type": "code",
   "execution_count": 2,
   "id": "8afbbea9",
   "metadata": {},
   "outputs": [],
   "source": [
    "def getContextSummary(context,max_len=5000):\n",
    "    return summarizer(context[:max_len], \n",
    "                      max_length=max_len//3 + 150, \n",
    "                      min_length=150, \n",
    "                      do_sample=False)[0]['summary_text']"
   ]
  },
  {
   "cell_type": "code",
   "execution_count": 3,
   "id": "e95e4adf",
   "metadata": {},
   "outputs": [
    {
     "name": "stderr",
     "output_type": "stream",
     "text": [
      "No config specified, defaulting to: multidoc2dial/multidoc2dial\n",
      "No config specified, defaulting to: multidoc2dial/multidoc2dial\n",
      "Found cached dataset multidoc2dial (/home/azureuser/.cache/huggingface/datasets/multidoc2dial/multidoc2dial/1.0.0/6e2a407c09eb478a5b80845fc04406bb9c9d4bea9f135dd7b8b7610a6b608d84)\n",
      "No config specified, defaulting to: multidoc2dial/multidoc2dial\n",
      "Found cached dataset multidoc2dial (/home/azureuser/.cache/huggingface/datasets/multidoc2dial/multidoc2dial/1.0.0/6e2a407c09eb478a5b80845fc04406bb9c9d4bea9f135dd7b8b7610a6b608d84)\n",
      "No config specified, defaulting to: multidoc2dial/multidoc2dial\n",
      "Found cached dataset multidoc2dial (/home/azureuser/.cache/huggingface/datasets/multidoc2dial/multidoc2dial/1.0.0/6e2a407c09eb478a5b80845fc04406bb9c9d4bea9f135dd7b8b7610a6b608d84)\n"
     ]
    }
   ],
   "source": [
    "from datasets import load_dataset_builder,load_dataset\n",
    "convAI_data = load_dataset_builder('multidoc2dial')\n",
    "\n",
    "train_data= load_dataset('multidoc2dial', split='train', ignore_verifications=True)\n",
    "test_data= load_dataset('multidoc2dial', split='test', \n",
    "                                            ignore_verifications=True)\n",
    "dev_data= load_dataset('multidoc2dial', split='validation', \n",
    "                                            ignore_verifications=True)"
   ]
  },
  {
   "cell_type": "code",
   "execution_count": 78,
   "id": "7096da9a",
   "metadata": {},
   "outputs": [],
   "source": [
    "import re\n",
    "from mosestokenizer import MosesDetokenizer, MosesSentenceSplitter\n",
    "import tqdm\n",
    "from nltk.util import ngrams\n",
    "from nltk.tokenize import sent_tokenize\n",
    "import random\n",
    "\n",
    "splitter = MosesSentenceSplitter(\"en\")\n",
    "detokenizer = MosesDetokenizer(\"en\")\n",
    "\n",
    "\n",
    "def normalize_whitespace(string):\n",
    "    return re.sub(r\"(\\s)\\1{1,}\", r\"\\1\", string)\n",
    "\n",
    "\n",
    "def cleanDocument(document):\n",
    "    document = re.sub(r\"\\[\\d+\\s?\\]\", \"\", document)\n",
    "    document = re.sub(r\"(\\d\\.\\s+|[a-z]\\)\\s+|•\\s+|[A-Z]\\.\\s+|[IVX]+\\.\\s+)\", \"\", document)\n",
    "    document = normalize_whitespace(document.replace(\"\\n\", \"\")).strip()\n",
    "    return document\n",
    "\n",
    "\n",
    "def raw_checks(answer, context, n=3):\n",
    "    dat = context.strip().split(\"\\n\\n\")\n",
    "    if len(dat) == 1:\n",
    "        dat = dat[0].strip().split(\"\\n\")\n",
    "\n",
    "    if len(dat) < 4:\n",
    "        n = len(dat)\n",
    "    document_list = [\"\".join(s) for s in list(ngrams(dat, n))]\n",
    "    # print(document_list)\n",
    "    contains = [s.strip() for s in document_list if answer.strip() in s.strip()]\n",
    "    if len(contains) > 1:\n",
    "        contains = random.choice(contains)\n",
    "        return contains\n",
    "    else:\n",
    "        return contains[-1]\n",
    "\n",
    "\n",
    "def finalOverlap(answer_context, document):\n",
    "    def nltk_splitter_based():\n",
    "        context_sentences = sent_tokenize(document)\n",
    "        if len(context_sentences) < 5:\n",
    "            return [document]\n",
    "        document_list = [\" \".join(s) for s in list(ngrams(context_sentences, 5))]\n",
    "        context_sentences = [s.strip() for s in document_list if answer_context in s]\n",
    "        return context_sentences\n",
    "\n",
    "    def split_sentences():\n",
    "        context_sentences = splitter([document])\n",
    "        document_list = [\" \".join(s) for s in list(ngrams(context_sentences, 5))]\n",
    "        context_sentences = [s.strip() for s in document_list if answer_context in s]\n",
    "        if len(context_sentences) == 0:\n",
    "            context_sentences = nltk_splitter_based()\n",
    "\n",
    "        if len(context_sentences) > 1:\n",
    "            return random.choice(context_sentences)\n",
    "        else:\n",
    "            return context_sentences[-1]\n",
    "\n",
    "    return split_sentences()"
   ]
  },
  {
   "cell_type": "code",
   "execution_count": null,
   "id": "0d7659fb",
   "metadata": {},
   "outputs": [],
   "source": [
    "idk=646\n",
    "context=train_data[idk]['context']\n",
    "answer = train_data[idk]['answers'][\"text\"]\n",
    "answer_start = train_data[idk][\"answers\"]['answer_start']\n",
    "question = train_data[idk]['question']\n",
    "ac=getOverlap(answer[0],answer_start,str(context),random.choice([3,4]))"
   ]
  },
  {
   "cell_type": "code",
   "execution_count": 81,
   "id": "f2bc1245",
   "metadata": {},
   "outputs": [],
   "source": []
  },
  {
   "cell_type": "code",
   "execution_count": 120,
   "id": "2eeb3095",
   "metadata": {},
   "outputs": [],
   "source": [
    "from dataclasses import dataclass\n",
    "from dataclasses_json import dataclass_json\n",
    "\n",
    "@dataclass_json\n",
    "@dataclass\n",
    "class Multidoc2DialData:\n",
    "    document: str\n",
    "    current_question: str\n",
    "    conv_history: str\n",
    "    answer_phrase: str\n",
    "    facts: str\n",
    "    utterance: str\n",
    "    \n",
    "    \n",
    "    \n",
    "    "
   ]
  },
  {
   "cell_type": "code",
   "execution_count": 95,
   "id": "0afa49d0",
   "metadata": {},
   "outputs": [
    {
     "data": {
      "text/plain": [
       "{'id': '8df07b7a98990db27c395cb1f68a962e_1',\n",
       " 'title': 'Top 5 DMV Mistakes and How to Avoid Them#3_0',\n",
       " 'context': 'Many DMV customers make easily avoidable mistakes that cause them significant problems, including encounters with law enforcement and impounded vehicles. Because we see customers make these mistakes over and over again , we are issuing this list of the top five DMV mistakes and how to avoid them. \\n\\n1. Forgetting to Update Address \\nBy statute , you must report a change of address to DMV within ten days of moving. That is the case for the address associated with your license, as well as all the addresses associated with each registered vehicle, which may differ. It is not sufficient to only: write your new address on the back of your old license; tell the United States Postal Service; or inform the police officer writing you a ticket. If you fail to keep your address current , you will miss a suspension order and may be charged with operating an unregistered vehicle and/or aggravated unlicensed operation, both misdemeanors. This really happens , but the good news is this is a problem that is easily avoidable. Learn more about how to change the address on your license and registrations [1 ] \\n\\n2. Leaving the State Without Notifying DMV \\nStates communicate with each other , so when you move to another state, be sure to tie up any loose ends regarding your New York State license or registration. That means resolving any unanswered tickets, suspensions or revocations, and surrendering your license plates to NYS when you get to your new home state. A license suspension or revocation here could mean that your new home state will not issue you a license there. Remember , it is important to notify DMV of your new address so that any possible mail correspondence can reach you. Also , turning in your plates is important to avoid an insurance lapse. \\n\\n3. Letting Insurance Lapse \\nBecause we all pay indirectly for crashes involving uninsured motorists , New York State requires every motorist to maintain auto insurance every single day a vehicle is registered. DMV works with insurance companies to electronically monitor your insurance coverage , and we know when coverage is dropped for any reason. When that happens , we mail you an insurance inquiry letter to allow you to clear up the problem. We send 500,000 inquiry letters a year. If the inquiry letter does not resolve the problem , we must suspend the vehicle registration and , if it persists, your driver license!We suspend 300,000 registrations a year for failure to maintain insurance. If you fail to maintain an updated address with us , you won t learn that you have an insurance problem , and we will suspend your registration and license. Make sure you turn in your vehicle s license plates at DMV before you cancel your insurance policy. Insurance policies must be from a company licensed in New York State. Learn more about Insurances Lapes [2] and How to Surrender your Plates [3 ] \\n\\n4. Understanding how Much Traffic Points Cost \\nDMV maintains a point system to track dangerous drivers. Often , motorists convicted of a traffic ticket feel they have resolved all their motoring issues with the local court, but later learn that the Driver Responsibility Assessment DRA is a separate DMV charge based on the total points they accumulate. The $300 DRA fee can be paid in $100 annual installments over three years. Motorists who fail to maintain an updated address with DMV may resolve their tickets with the court, but never receive their DRA assessment because we do not have their new address on record. Failure to pay the DRA will result in a suspended license. Learn more about About the NYS Driver Point System [4] and how to Pay Driver Responsibility Assessment [5 ] \\n\\n5. Not Bringing Proper Documentation to DMV Office \\nAbout ten percent of customers visiting a DMV office do not bring what they need to complete their transaction, and have to come back a second time to finish their business. This can be as simple as not bringing sufficient funds to pay for a license renewal or not having the proof of auto insurance required to register a car. Better yet , don t visit a DMV office at all, and see if your transaction can be performed online, like an address change, registration renewal, license renewal, replacing a lost title, paying a DRA or scheduling a road test. Our award - winning website is recognized as one of the best in the nation. It has all the answers you need to efficiently perform any DMV transaction. Consider signing up for our MyDMV service, which offers even more benefits. Sign up or log into MyDMV [6 ] ',\n",
       " 'question': 'Hello, I forgot o update my address, can you help me with that?[SEP]',\n",
       " 'da': 'query_condition',\n",
       " 'answers': {'text': ['you must report a change of address to DMV within ten days of moving. That is the case for the address associated with your license, as well as all the addresses associated with each registered vehicle, which may differ. '],\n",
       "  'answer_start': [346]},\n",
       " 'utterance': 'hi, you have to report any change of address to DMV within 10 days after moving. You should do this both for the address associated with your license and all the addresses associated with all your vehicles.',\n",
       " 'domain': 'dmv'}"
      ]
     },
     "execution_count": 95,
     "metadata": {},
     "output_type": "execute_result"
    }
   ],
   "source": [
    "train_data[0]"
   ]
  },
  {
   "cell_type": "code",
   "execution_count": 108,
   "id": "9410f5eb",
   "metadata": {},
   "outputs": [],
   "source": [
    "def processDataset(data_pack):\n",
    "    not_present = []\n",
    "    processed_data = []\n",
    "    for idx in tqdm.tqdm(range(0,len(data_pack))):\n",
    "        dat= train_data[idx]\n",
    "        document_context = dat['context']\n",
    "        question, history= dat['question'].split('[SEP]')\n",
    "        answer_text = dat['answers']['text'][0]\n",
    "        answer_ids = dat['answers']['answer_start'][0]\n",
    "        \n",
    "        if dat['answers']['text'][0] not in document_context:\n",
    "            not_present.append(idx)\n",
    "        else:\n",
    "            doc_context =  raw_checks(answer_text,document_context)\n",
    "            document = cleanDocument(doc_context)\n",
    "            answer_context = cleanDocument(answer_text)\n",
    "            assert answer_context in document, \"Error: 1\"\n",
    "            context_sentences=finalOverlap(answer_context,document)\n",
    "            assert answer_context.strip() in context_sentences.strip(), \"Error: 2\"\n",
    "            conversation = Multidoc2DialData(document=cleanDocument(document_context),\n",
    "                                             conv_history=history,\n",
    "                                             utterance=dat['utterance'],\n",
    "                                             facts=context_sentences,\n",
    "                                             answer_phrase= answer_context.strip(),\n",
    "                                             current_question=question)\n",
    "            processed_data.append(conversation)\n",
    "    return processed_data"
   ]
  },
  {
   "cell_type": "code",
   "execution_count": 109,
   "id": "0f966ee8",
   "metadata": {},
   "outputs": [
    {
     "name": "stderr",
     "output_type": "stream",
     "text": [
      "100%|███████████████████████████████████████████████████████████████████████████████████████████████████████████████████████████████████████████████████████████████████████████████████████████████████████████████████████████████████████████████████████████████████████████████████████████████████████████████████████████████████████████████████████████████████████████████████████████████████████████████████████████████████████████████████████████████████████████████████████████████████████████████████████████████████████████████████████████████████████████████████████████████████████████████████████████████████████████████████████████████████████████████████████████████████████████████████████████████████████████████████████████████████████████████████████████████████████████████████████████████████████████████████████████████████████████████████████████████████████████████████████████████████████████████████████████████████████████████████████████| 21451/21451 [00:34<00:00, 617.31it/s]\n"
     ]
    }
   ],
   "source": [
    "processed_train= processDataset(train_data)\n"
   ]
  },
  {
   "cell_type": "code",
   "execution_count": null,
   "id": "e45f279b",
   "metadata": {},
   "outputs": [],
   "source": []
  },
  {
   "cell_type": "code",
   "execution_count": 110,
   "id": "9e344589",
   "metadata": {},
   "outputs": [
    {
     "name": "stderr",
     "output_type": "stream",
     "text": [
      "100%|█████████████████████████████████████████████████████████████████████████████████████████████████████████████████████████████████████████████████████████████████████████████████████████████████████████████████████████████████████████████████████████████████████████████████████████████████████████████████████████████████████████████████████████████████████████████████████████████████████████████████████████████████████████████████████████████████████████████████████████████████████████████████████████████████████████████████████████████████████████████████████████████████████████████████████████████████████████████████████████████████████████████████████████████████████████████████████████████████████████████████████████████████████████████████████████████████████████████████████████████████████████████████████████████████████████████████████████████████████████████████████████████████████████████████████████████████████████████████████████████| 4094/4094 [00:06<00:00, 641.64it/s]\n",
      "100%|█████████████████████████████████████████████████████████████████████████████████████████████████████████████████████████████████████████████████████████████████████████████████████████████████████████████████████████████████████████████████████████████████████████████████████████████████████████████████████████████████████████████████████████████████████████████████████████████████████████████████████████████████████████████████████████████████████████████████████████████████████████████████████████████████████████████████████████████████████████████████████████████████████████████████████████████████████████████████████████████████████████████████████████████████████████████████████████████████████████████████████████████████████████████████████████████████████████████████████████████████████████████████████████████████████████████████████████████████████████████████████████████████████████████████████████████████████████████████████████████| 4201/4201 [00:06<00:00, 657.50it/s]\n"
     ]
    }
   ],
   "source": [
    "processed_test= processDataset(test_data)\n",
    "processed_dev= processDataset(dev_data)"
   ]
  },
  {
   "cell_type": "code",
   "execution_count": 114,
   "id": "4199ce7f",
   "metadata": {},
   "outputs": [],
   "source": []
  },
  {
   "cell_type": "code",
   "execution_count": 127,
   "id": "3a3a9d94",
   "metadata": {},
   "outputs": [
    {
     "ename": "",
     "evalue": "",
     "output_type": "error",
     "traceback": [
      "\u001b[1;31mThe Kernel crashed while executing code in the the current cell or a previous cell. Please review the code in the cell(s) to identify a possible cause of the failure. Click <a href='https://aka.ms/vscodeJupyterKernelCrash'>here</a> for more info. View Jupyter <a href='command:jupyter.viewOutput'>log</a> for further details."
     ]
    }
   ],
   "source": [
    "import json\n",
    "with open(\"processed_data/train_data.json\",\"w\") as train_file:\n",
    "    json.dump(Multidoc2DialData.schema().dump(processed_train, many=True,),train_file)"
   ]
  },
  {
   "cell_type": "code",
   "execution_count": 126,
   "id": "875ebaf3",
   "metadata": {},
   "outputs": [],
   "source": [
    "with open(\"processed_data/test_data.json\",\"w\") as test_file:\n",
    "    json.dump(Multidoc2DialData.schema().dump(processed_test, many=True,),test_file)\n",
    "    \n",
    "with open(\"processed_data/dev_data.json\",\"w\") as dev_file:\n",
    "    json.dump(Multidoc2DialData.schema().dump(processed_dev, many=True,),dev_file)"
   ]
  },
  {
   "cell_type": "code",
   "execution_count": null,
   "id": "71977a29",
   "metadata": {},
   "outputs": [],
   "source": [
    "from sentence_transformers import SentenceTransformer\n",
    "import numpy as np"
   ]
  },
  {
   "cell_type": "code",
   "execution_count": null,
   "id": "6de7d60c",
   "metadata": {},
   "outputs": [],
   "source": [
    "model = SentenceTransformer(\"all-mpnet-base-v2\")"
   ]
  },
  {
   "cell_type": "code",
   "execution_count": null,
   "id": "3212de90",
   "metadata": {},
   "outputs": [],
   "source": [
    "e1 = torch.FloatTensor(model.encode([\"What is LNG\"],normalize_embeddings=False))\n",
    "e2 = torch.FloatTensor(model.encode([\"What is LNG\"],normalize_embeddings=True))"
   ]
  },
  {
   "cell_type": "code",
   "execution_count": null,
   "id": "e26e93b2",
   "metadata": {},
   "outputs": [],
   "source": []
  },
  {
   "cell_type": "code",
   "execution_count": null,
   "id": "e3256551",
   "metadata": {},
   "outputs": [],
   "source": [
    "e1[0,:10]"
   ]
  },
  {
   "cell_type": "code",
   "execution_count": null,
   "id": "68459a69",
   "metadata": {},
   "outputs": [],
   "source": [
    "e2[0,:10].numpy()==e1[0,:10].numpy()"
   ]
  },
  {
   "cell_type": "code",
   "execution_count": null,
   "id": "5d78063f",
   "metadata": {},
   "outputs": [],
   "source": [
    "if torch.all(e1!=e2):\n",
    "    print(6464)"
   ]
  }
 ],
 "metadata": {
  "kernelspec": {
   "display_name": "Python 3 (ipykernel)",
   "language": "python",
   "name": "python3"
  },
  "language_info": {
   "codemirror_mode": {
    "name": "ipython",
    "version": 3
   },
   "file_extension": ".py",
   "mimetype": "text/x-python",
   "name": "python",
   "nbconvert_exporter": "python",
   "pygments_lexer": "ipython3",
   "version": "3.9.13"
  },
  "vscode": {
   "interpreter": {
    "hash": "651a0ea9c99ff4fc9d0cad7e667d2a622e86969049e30a30403341f776f67719"
   }
  }
 },
 "nbformat": 4,
 "nbformat_minor": 5
}
