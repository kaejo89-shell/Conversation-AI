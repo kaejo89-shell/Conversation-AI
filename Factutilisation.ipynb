{
 "cells": [
  {
   "cell_type": "code",
   "execution_count": 14,
   "metadata": {},
   "outputs": [],
   "source": [
    "from keybert import KeyBERT\n",
    "\n",
    "doc = \"\"\"\n",
    "         Supervised learning is the machine learning task of learning a function that\n",
    "         maps an input to an output based on example input-output pairs. It infers a\n",
    "         function from labeled training data consisting of a set of training examples.\n",
    "         In supervised learning, each example is a pair consisting of an input object\n",
    "         (typically a vector) and a desired output value (also called the supervisory signal).\n",
    "         A supervised learning algorithm analyzes the training data and produces an inferred function,\n",
    "         which can be used for mapping new examples. An optimal scenario will allow for the\n",
    "         algorithm to correctly determine the class labels for unseen instances. This requires\n",
    "         the learning algorithm to generalize from the training data to unseen situations in a\n",
    "         'reasonable' way (see inductive bias).\n",
    "      \"\"\"\n",
    "kw_model = KeyBERT()\n",
    "keywords = kw_model.extract_keywords(doc)"
   ]
  },
  {
   "cell_type": "code",
   "execution_count": 15,
   "metadata": {},
   "outputs": [
    {
     "data": {
      "text/plain": [
       "[('supervised learning algorithm', 0.6992),\n",
       " ('function labeled training', 0.663),\n",
       " ('labels unseen instances', 0.4239),\n",
       " ('called supervisory signal', 0.4016),\n",
       " ('function maps input', 0.3176)]"
      ]
     },
     "execution_count": 15,
     "metadata": {},
     "output_type": "execute_result"
    }
   ],
   "source": [
    "kw_model.extract_keywords(doc,  keyphrase_ngram_range=(3, 3), stop_words='english',\n",
    "                              use_mmr=True, diversity=0.5)"
   ]
  },
  {
   "cell_type": "code",
   "execution_count": 16,
   "metadata": {},
   "outputs": [],
   "source": [
    "from keybert import KeyBERT\n",
    "kw_model = KeyBERT(model='all-MiniLM-L6-v2')\n",
    "keywords = kw_model.extract_keywords(doc)"
   ]
  },
  {
   "cell_type": "code",
   "execution_count": 17,
   "metadata": {},
   "outputs": [
    {
     "data": {
      "text/plain": [
       "[('supervised learning algorithm', 0.6992),\n",
       " ('function labeled training', 0.663),\n",
       " ('labels unseen instances', 0.4239),\n",
       " ('called supervisory signal', 0.4016),\n",
       " ('function maps input', 0.3176)]"
      ]
     },
     "execution_count": 17,
     "metadata": {},
     "output_type": "execute_result"
    }
   ],
   "source": [
    "kw_model.extract_keywords(doc,  keyphrase_ngram_range=(3, 3), stop_words='english',\n",
    "                              use_mmr=True, diversity=0.5)"
   ]
  },
  {
   "cell_type": "code",
   "execution_count": 18,
   "metadata": {},
   "outputs": [],
   "source": [
    "from flair.embeddings import TransformerDocumentEmbeddings\n",
    "\n",
    "roberta = TransformerDocumentEmbeddings('roberta-base')\n",
    "flair_kw_model = KeyBERT(model=roberta)"
   ]
  },
  {
   "cell_type": "code",
   "execution_count": 1,
   "metadata": {},
   "outputs": [],
   "source": [
    "dt= \"Here are specific instructions If the name on the NY State Title Certificate will not change , sales tax forms and proofs are not required. See information below if you were not a NY State resident when you purchased the vehicle. If you bought the vehicle from a NY State automobile dealer or an out - of - state dealer that is authorized to collect NY State sales tax , bring the dealer's bill of sale that shows that you paid NY State sales tax. Also bring a Dealer s Bill of Sale MV-50 NY State dealer only or a completed Sales Tax Exemption {Sales Tax Form} pdf at NY State Department of Tax and Finance DTF-803 for an out - of - state dealer. If NY State sales tax was paid to a NY State dealer , the DMV does not collect sales tax when you apply for a vehicle registration , and the DMV does not issue a sales tax receipt.\""
   ]
  },
  {
   "cell_type": "code",
   "execution_count": 19,
   "metadata": {},
   "outputs": [
    {
     "data": {
      "text/plain": [
       "[('taxes online estimate', 0.9952),\n",
       " ('fees taxes trailers', 0.9952),\n",
       " ('vehicle estimate fees', 0.9952),\n",
       " ('estimate fees taxes', 0.9952),\n",
       " ('register vehicle pay', 0.9951)]"
      ]
     },
     "execution_count": 19,
     "metadata": {},
     "output_type": "execute_result"
    }
   ],
   "source": [
    "flair_kw_model.extract_keywords(dt,  keyphrase_ngram_range=(3, 3), stop_words='english',\n",
    "                              use_mmr=True, diversity=0.5)"
   ]
  },
  {
   "cell_type": "code",
   "execution_count": 21,
   "metadata": {},
   "outputs": [
    {
     "data": {
      "text/plain": [
       "[('vehicle', 0.9977),\n",
       " ('plate', 0.9977),\n",
       " ('registration', 0.9976),\n",
       " ('fee', 0.9976),\n",
       " ('yes', 0.9973)]"
      ]
     },
     "execution_count": 21,
     "metadata": {},
     "output_type": "execute_result"
    }
   ],
   "source": [
    "flair_kw_model.extract_keywords(ut)"
   ]
  },
  {
   "cell_type": "code",
   "execution_count": 20,
   "metadata": {},
   "outputs": [
    {
     "data": {
      "text/plain": [
       "[('taxes', 0.9945),\n",
       " ('certificate', 0.9944),\n",
       " ('fees', 0.9944),\n",
       " ('sales', 0.9943),\n",
       " ('counties', 0.9943)]"
      ]
     },
     "execution_count": 20,
     "metadata": {},
     "output_type": "execute_result"
    }
   ],
   "source": [
    "flair_kw_model.extract_keywords(dt)"
   ]
  },
  {
   "cell_type": "code",
   "execution_count": 2,
   "metadata": {},
   "outputs": [],
   "source": [
    "ut='On a good note, you do not have to pay sales tax at the DMV office.'"
   ]
  },
  {
   "cell_type": "code",
   "execution_count": null,
   "metadata": {},
   "outputs": [],
   "source": [
    "from sentence_transformers import SentenceTransformer"
   ]
  },
  {
   "cell_type": "code",
   "execution_count": 19,
   "metadata": {},
   "outputs": [
    {
     "data": {
      "text/plain": [
       "[('sales', 0.9981),\n",
       " ('dmv', 0.9978),\n",
       " ('note', 0.9977),\n",
       " ('office', 0.9976),\n",
       " ('pay', 0.9974)]"
      ]
     },
     "execution_count": 19,
     "metadata": {},
     "output_type": "execute_result"
    }
   ],
   "source": [
    "flair_kw_model.extract_keywords(ut)"
   ]
  },
  {
   "cell_type": "code",
   "execution_count": 3,
   "metadata": {},
   "outputs": [
    {
     "name": "stderr",
     "output_type": "stream",
     "text": [
      "/anaconda/envs/vsme/lib/python3.9/site-packages/huggingface_hub/snapshot_download.py:6: FutureWarning: snapshot_download.py has been made private and will no longer be available from version 0.11. Please use `from huggingface_hub import snapshot_download` to import the only public function in this module. Other members of the file may be changed without a deprecation notice.\n",
      "  warnings.warn(\n"
     ]
    }
   ],
   "source": [
    "from similarity_checks import SimilarityChecks"
   ]
  },
  {
   "cell_type": "code",
   "execution_count": null,
   "metadata": {},
   "outputs": [],
   "source": [
    "sim = SimilarityChecks()"
   ]
  },
  {
   "cell_type": "code",
   "execution_count": 12,
   "metadata": {},
   "outputs": [],
   "source": [
    "dt = \"Estimate registration fees and taxes. If this is the original registration first time you register your vehicle, you must pay the registration fee vehicle plate fee county use tax sales tax see sales tax information title certificate fee of $50.00 MCTD 1 fee for the following 12 counties only: Bronx, Kings Brooklyn, New York Manhattan, Queens, Richmond Staten Island, Dutchess, Nassau, Orange, Putnam, Rockland, Suffolk, and Westchester If you transfer the registration and plates from another vehicle , you don t need to pay the plate fees or MCTD fee , and you may be able to transfer the registration fees to your new vehicle. Estimate fees and taxes online The online estimates DOES NOT include the sales tax. You can also use these charts to estimate your registration fees, use taxes, and supplemental fees for passenger vehicles commercial vehicles Sorry , you cannot use the online service to estimate fees and taxes for trailers or boats see instructions below. Estimate registration fees and taxes online Estimate trailer and boat registration fees Trailer and boat registration fees are calculated differently.\"\n",
    "ut= \"Yes, there is a vehicle plate fee as well as a registration fee.\""
   ]
  },
  {
   "cell_type": "code",
   "execution_count": 13,
   "metadata": {},
   "outputs": [
    {
     "data": {
      "text/plain": [
       "array([[0.6645771]], dtype=float32)"
      ]
     },
     "execution_count": 13,
     "metadata": {},
     "output_type": "execute_result"
    }
   ],
   "source": [
    "sim.compute(ut,dt)"
   ]
  },
  {
   "cell_type": "code",
   "execution_count": 8,
   "metadata": {},
   "outputs": [
    {
     "name": "stdout",
     "output_type": "stream",
     "text": [
      "Wed Dec 14 00:25:32 2022       \n",
      "+-----------------------------------------------------------------------------+\n",
      "| NVIDIA-SMI 470.141.10   Driver Version: 470.141.10   CUDA Version: 11.4     |\n",
      "|-------------------------------+----------------------+----------------------+\n",
      "| GPU  Name        Persistence-M| Bus-Id        Disp.A | Volatile Uncorr. ECC |\n",
      "| Fan  Temp  Perf  Pwr:Usage/Cap|         Memory-Usage | GPU-Util  Compute M. |\n",
      "|                               |                      |               MIG M. |\n",
      "|===============================+======================+======================|\n",
      "|   0  Tesla K80           On   | 00000001:00:00.0 Off |                    0 |\n",
      "| N/A   42C    P0    69W / 149W |  11000MiB / 11441MiB |      0%      Default |\n",
      "|                               |                      |                  N/A |\n",
      "+-------------------------------+----------------------+----------------------+\n",
      "                                                                               \n",
      "+-----------------------------------------------------------------------------+\n",
      "| Processes:                                                                  |\n",
      "|  GPU   GI   CI        PID   Type   Process name                  GPU Memory |\n",
      "|        ID   ID                                                   Usage      |\n",
      "|=============================================================================|\n",
      "|    0   N/A  N/A     19533      C   ...onda/envs/vsme/bin/python    10995MiB |\n",
      "+-----------------------------------------------------------------------------+\n"
     ]
    }
   ],
   "source": [
    "!nvidia-smi"
   ]
  },
  {
   "cell_type": "code",
   "execution_count": 11,
   "metadata": {},
   "outputs": [
    {
     "name": "stdout",
     "output_type": "stream",
     "text": [
      "Wed Dec 14 00:34:37 2022       \n",
      "+-----------------------------------------------------------------------------+\n",
      "| NVIDIA-SMI 470.141.10   Driver Version: 470.141.10   CUDA Version: 11.4     |\n",
      "|-------------------------------+----------------------+----------------------+\n",
      "| GPU  Name        Persistence-M| Bus-Id        Disp.A | Volatile Uncorr. ECC |\n",
      "| Fan  Temp  Perf  Pwr:Usage/Cap|         Memory-Usage | GPU-Util  Compute M. |\n",
      "|                               |                      |               MIG M. |\n",
      "|===============================+======================+======================|\n",
      "|   0  Tesla K80           On   | 00000001:00:00.0 Off |                    0 |\n",
      "| N/A   40C    P8    30W / 149W |      0MiB / 11441MiB |      0%      Default |\n",
      "|                               |                      |                  N/A |\n",
      "+-------------------------------+----------------------+----------------------+\n",
      "                                                                               \n",
      "+-----------------------------------------------------------------------------+\n",
      "| Processes:                                                                  |\n",
      "|  GPU   GI   CI        PID   Type   Process name                  GPU Memory |\n",
      "|        ID   ID                                                   Usage      |\n",
      "|=============================================================================|\n",
      "|  No running processes found                                                 |\n",
      "+-----------------------------------------------------------------------------+\n"
     ]
    }
   ],
   "source": [
    "!nvidia-smi"
   ]
  }
 ],
 "metadata": {
  "kernelspec": {
   "display_name": "vsme",
   "language": "python",
   "name": "python3"
  },
  "language_info": {
   "codemirror_mode": {
    "name": "ipython",
    "version": 3
   },
   "file_extension": ".py",
   "mimetype": "text/x-python",
   "name": "python",
   "nbconvert_exporter": "python",
   "pygments_lexer": "ipython3",
   "version": "3.9.13"
  },
  "orig_nbformat": 4,
  "vscode": {
   "interpreter": {
    "hash": "651a0ea9c99ff4fc9d0cad7e667d2a622e86969049e30a30403341f776f67719"
   }
  }
 },
 "nbformat": 4,
 "nbformat_minor": 2
}
